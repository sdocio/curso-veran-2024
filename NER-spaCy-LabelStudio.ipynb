{
 "cells": [
  {
   "cell_type": "markdown",
   "id": "91996fe7-7fc0-49d4-8b0b-1bc880a5dc17",
   "metadata": {},
   "source": [
    "# Anotación de entidades mencionadas: Trafilatura, spaCy e LabelStudio"
   ]
  },
  {
   "cell_type": "markdown",
   "id": "52c74f3d-e18d-4f6b-8699-85f17d245725",
   "metadata": {},
   "source": [
    "## Trafilatura"
   ]
  },
  {
   "cell_type": "markdown",
   "id": "2da7e499-c63d-4510-9457-faf59bfc7dd8",
   "metadata": {},
   "source": [
    "Ferramenta deseñada para obter datos textuais a partir da web, e que se pode usar como programa desde a liña de comandos ou como módulo de Python.\n",
    "\n",
    "https://trafilatura.readthedocs.io/en/latest/"
   ]
  },
  {
   "cell_type": "code",
   "execution_count": null,
   "id": "cbdfd9b0-d23c-49d0-9375-dc3039d4d639",
   "metadata": {},
   "outputs": [],
   "source": [
    "!pip install trafilatura"
   ]
  },
  {
   "cell_type": "code",
   "execution_count": null,
   "id": "11ac77b6-c0aa-4bc3-920c-7848be9ec035",
   "metadata": {},
   "outputs": [],
   "source": [
    "!trafilatura -h"
   ]
  },
  {
   "cell_type": "markdown",
   "id": "bed9c7ee-d362-4311-9ecf-8826c23ef904",
   "metadata": {},
   "source": [
    "Lista de URLs para descarregar:"
   ]
  },
  {
   "cell_type": "code",
   "execution_count": null,
   "id": "75cf4a1c-ff7a-41ad-806e-f4246a5ea446",
   "metadata": {},
   "outputs": [],
   "source": [
    "!cat list.txt"
   ]
  },
  {
   "cell_type": "code",
   "execution_count": null,
   "id": "2d658241-14d1-4b1b-91b7-15ecedacff55",
   "metadata": {},
   "outputs": [],
   "source": [
    "!trafilatura -i list.txt -o texts"
   ]
  }
 ],
 "metadata": {
  "kernelspec": {
   "display_name": "Python 3 (ipykernel)",
   "language": "python",
   "name": "python3"
  },
  "language_info": {
   "codemirror_mode": {
    "name": "ipython",
    "version": 3
   },
   "file_extension": ".py",
   "mimetype": "text/x-python",
   "name": "python",
   "nbconvert_exporter": "python",
   "pygments_lexer": "ipython3",
   "version": "3.11.2"
  }
 },
 "nbformat": 4,
 "nbformat_minor": 5
}
